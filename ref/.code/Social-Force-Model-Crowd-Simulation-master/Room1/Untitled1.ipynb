{
 "cells": [
  {
   "cell_type": "code",
   "execution_count": 3,
   "id": "6079a8ad",
   "metadata": {},
   "outputs": [
    {
     "name": "stdout",
     "output_type": "stream",
     "text": [
      "pygame 2.1.2 (SDL 2.0.16, Python 3.10.4)\n",
      "Hello from the pygame community. https://www.pygame.org/contribute.html\n"
     ]
    }
   ],
   "source": [
    "import pygame\n",
    "from pygame.locals import *\n",
    "import sys\n",
    "import numpy as np\n",
    "import numpy.random as random\n",
    "import math\n",
    "import time"
   ]
  },
  {
   "cell_type": "code",
   "execution_count": 42,
   "id": "f1f0b310",
   "metadata": {},
   "outputs": [],
   "source": [
    "lt=[100,700];rt=[700,700];\n",
    "lb=[100,100];rb=[700,100];\n",
    "exit=[380,420]\n",
    "\n",
    "walls=[[lb[0],lb[1],rb[0],rb[1]  ],\n",
    "       [lb[0],lb[1],lt[0],lt[1]  ],\n",
    "       [lt[0],lt[1],rt[0],rt[1]  ],\n",
    "       [rb[0],rb[1],rb[0],exit[0]],\n",
    "       [rt[0],rt[1],rt[0],exit[1]]]\n",
    "\n",
    "def distance_agent_to_wall(point,wall):\n",
    "    p0=np.array(wall[0],wall[1])\n",
    "    p1=np.array(wall[2],wall[3])\n",
    "    d=p1-p0\n",
    "    ymp0=point-p0\n",
    "    t=np.dot(d,ymp0)/np.dot(d,d)\n",
    "    if t<=0:\n",
    "        dist = np.sqrt(np.dot(ymp0,ymp0))\n",
    "        cross=p0+t*d\n",
    "    elif t>=1:\n",
    "        ymp1=point-p1\n",
    "        dist"
   ]
  },
  {
   "cell_type": "code",
   "execution_count": 55,
   "id": "ba9cae3b",
   "metadata": {},
   "outputs": [
    {
     "name": "stdout",
     "output_type": "stream",
     "text": [
      "[100, 100, 700, 100]\n",
      "[100, 100, 100, 700]\n",
      "[100, 700, 700, 700]\n",
      "[700, 100, 700, 380]\n",
      "[700, 700, 700, 420]\n"
     ]
    }
   ],
   "source": [
    "for wall in walls:\n",
    "    print(wall)"
   ]
  },
  {
   "cell_type": "code",
   "execution_count": 59,
   "id": "b8527812",
   "metadata": {},
   "outputs": [
    {
     "name": "stdout",
     "output_type": "stream",
     "text": [
      "[100 100] [700 100] [600   0]\n"
     ]
    }
   ],
   "source": [
    "wall=walls[0]\n",
    "p0=np.array([wall[0],wall[1]])\n",
    "p1=np.array([wall[2],wall[3]])\n",
    "d=p1-p0\n",
    "\n",
    "print(p0,p1,d)"
   ]
  },
  {
   "cell_type": "code",
   "execution_count": 61,
   "id": "395736c6",
   "metadata": {},
   "outputs": [],
   "source": [
    "class Agent(object):\n",
    "    def __init__(self,mass,radius,posx,posy,dSpeed):\n",
    "        \n",
    "        self.mass = mass \n",
    "        self.radius = radius\n",
    "        \n",
    "        self.posx = posx\n",
    "        self.posy = posy\n",
    "        self.pos = np.array([self.posx, self.posy])\n",
    "    \n",
    "        self.aVelocityX = 0 \n",
    "        self.aVelocityY = 0  \n",
    "        self.aVelocity = np.array([self.aVelocityX, self.aVelocityY])\n",
    "    \n",
    "        self.dest = np.array([random.uniform(100,700),random.uniform(100,700)])\n",
    "        self.direction = normalize(self.dest - self.pos)\n",
    "        \n",
    "        self.dSpeed = dSpeed\n",
    "        self.dVelocity = self.dSpeed*self.direction\n",
    "        \n",
    "        self.acclTime = 0.5 \n",
    "        self.drivenAcc = (self.dVelocity - self.aVelocity)/self.acclTime\n",
    "              \n",
    "        \n",
    "        self.bodyFactor = 120000\n",
    "        self.F = 2000\n",
    "        self.delta = 0.08*50 \n",
    "        \n",
    "    def velocity_force(self): \n",
    "        deltaV = self.dVelocity - self.aVelocity\n",
    "        if np.allclose(deltaV, np.zeros(2)):\n",
    "            deltaV = np.zeros(2)\n",
    "        return deltaV*self.mass/self.acclTime\n",
    "    \n",
    "    \n",
    "    def f_ij(self, other): \n",
    "        r_ij = self.radius + other.radius\n",
    "        d_ij = np.linalg.norm(self.pos - other.pos)\n",
    "        e_ij = (self.pos - other.pos)/d_ij\n",
    "        value = self.F*np.exp((r_ij-d_ij)/(self.delta))*e_ij\n",
    "        + self.bodyFactor*g(r_ij-d_ij)*e_ij\n",
    "        return value\n",
    "    \n",
    "    def f_ik_wall(self, wall): \n",
    "        r_i = self.radius\n",
    "        d_iw,e_iw = distance_agent_to_wall(self.pos,wall)\n",
    "        value = -self.F*np.exp((r_i-d_iw)/self.delta)*e_iw \n",
    "        + self.bodyFactor*g(r_i-d_iw)*e_iw\n",
    "        return value\n",
    "    \n",
    "    def update_dest(self):\n",
    "        dist = math.sqrt((self.pos[0]-700)**2 + (self.pos[1]-400)**2)\n",
    "        if dist < 300:\n",
    "            self.dest = np.array([700,400])\n",
    "        else:\n",
    "            self.dest = np.array([700,400])\n"
   ]
  },
  {
   "cell_type": "code",
   "execution_count": 1,
   "id": "955b48f3",
   "metadata": {},
   "outputs": [
    {
     "ename": "NameError",
     "evalue": "name 'clock' is not defined",
     "output_type": "error",
     "traceback": [
      "\u001b[0;31m---------------------------------------------------------------------------\u001b[0m",
      "\u001b[0;31mNameError\u001b[0m                                 Traceback (most recent call last)",
      "Input \u001b[0;32mIn [1]\u001b[0m, in \u001b[0;36m<cell line: 1>\u001b[0;34m()\u001b[0m\n\u001b[1;32m      1\u001b[0m \u001b[38;5;28;01mwhile\u001b[39;00m \u001b[38;5;28;01mTrue\u001b[39;00m:\n\u001b[1;32m      2\u001b[0m     \u001b[38;5;66;03m# # Finding delta t for this frame\u001b[39;00m\n\u001b[0;32m----> 3\u001b[0m     dt \u001b[38;5;241m=\u001b[39m \u001b[43mclock\u001b[49m\u001b[38;5;241m.\u001b[39mtick(\u001b[38;5;241m70\u001b[39m)\u001b[38;5;241m/\u001b[39m\u001b[38;5;241m1000\u001b[39m\n\u001b[1;32m      4\u001b[0m     roomscreen\u001b[38;5;241m.\u001b[39mfill(background_color)\n\u001b[1;32m      6\u001b[0m     \u001b[38;5;66;03m# draw walls\u001b[39;00m\n",
      "\u001b[0;31mNameError\u001b[0m: name 'clock' is not defined"
     ]
    }
   ],
   "source": [
    "    while True:\n",
    "        # # Finding delta t for this frame\n",
    "        dt = clock.tick(70)/1000\n",
    "        roomscreen.fill(background_color)\n",
    "        \n",
    "        # draw walls\n",
    "        for wall in walls:\n",
    "            start_posw = np.array([wall[0],wall[1]])\n",
    "            end_posw = np.array([wall[2],wall[3]])\n",
    "            start_posx = start_posw \n",
    "            end_posx = end_posw\n",
    "            pygame.draw.line(roomscreen, line_color, start_posx, end_posx, 3)\n",
    "        \n",
    "        for agent_i in agents:\n",
    "            aVelocity_force = agent_i.velocity_force()\n",
    "            people_interaction = 0.0\n",
    "            wall_interaction = 0.0\n",
    "        \n",
    "            for agent_j in agents: \n",
    "                if agent_i == agent_j: continue\n",
    "                people_interaction += agent_i.f_ij(agent_j)\n",
    "        \n",
    "            for wall in walls:\n",
    "                wall_interaction += agent_i.f_ik_wall(wall)\n",
    "            \n",
    "            sumForce = aVelocity_force + people_interaction + wall_interaction\n",
    "            dv_dt = sumForce/agent_i.mass\n",
    "            agent_i.aVelocity = agent_i.aVelocity + dv_dt*dt \n",
    "            agent_i.pos = agent_i.pos + agent_i.aVelocity*dt\n",
    "            \n",
    "            # Avoiding disappearing agents   \n",
    "            if agent_i.pos[0] > 750 or agent_i.pos[0] < 50 or agent_i.pos[1] > 750 or agent_i.pos[1] < 50:\n",
    "                main()\n",
    "                sys.exit()\n",
    "        \n",
    "        for agent_i in agents:\n",
    "            # agent_i.time += clock.get_time()/1000 \n",
    "            start_position = [0, 0]\n",
    "            start_position[0] = int(agent_i.pos[0])\n",
    "            start_position[1] = int(agent_i.pos[1])\n",
    "            \n",
    "            end_position = [0, 0]\n",
    "            end_position[0] = int(agent_i.pos[0] + agent_i.aVelocity[0])\n",
    "            end_position[1] = int(agent_i.pos[1] + agent_i.aVelocity[1])\n",
    "        \n",
    "            end_positionDV = [0, 0]\n",
    "            end_positionDV[0] = int(agent_i.pos[0] + agent_i.dVelocity[0])\n",
    "            end_positionDV[1] = int(agent_i.pos[1] + agent_i.dVelocity[1])\n",
    "        \n",
    "            if start_position[0] > 699 or start_position[0] < 100:\n",
    "                data_matrix[count+j*nr_agents][2] = count \n",
    "                agents.remove(agent_i)\n",
    "            \n",
    "            pygame.draw.circle(roomscreen, agent_color, start_position, round(agent_i.radius), 3)\n",
    "            pygame.draw.line(roomscreen, agent_color, start_position, end_positionDV, 2)\n",
    "        pygame.display.flip()\n",
    "    pygame.quit()\n",
    "main()\n",
    "#np.savetxt('room1_vis', data_matrix)"
   ]
  },
  {
   "cell_type": "code",
   "execution_count": 3,
   "id": "8248e9fa",
   "metadata": {},
   "outputs": [
    {
     "ename": "SystemExit",
     "evalue": "0",
     "output_type": "error",
     "traceback": [
      "An exception has occurred, use %tb to see the full traceback.\n",
      "\u001b[0;31mSystemExit\u001b[0m\u001b[0;31m:\u001b[0m 0\n"
     ]
    }
   ],
   "source": [
    "import sys, pygame\n",
    "from pygame.locals import*\n",
    "\n",
    "width = 1000\n",
    "height = 500\n",
    "screen_color = (49, 150, 100)\n",
    "line_color = (255, 0, 0)\n",
    "\n",
    "def main():\n",
    "    screen=pygame.display.set_mode((width,height))\n",
    "    screen.fill(screen_color)\n",
    "    \n",
    "    pygame.draw.line(screen,line_color, (60, 80), (130, 100))\n",
    "    pygame.display.flip()\n",
    "    while True:\n",
    "        for events in pygame.event.get():\n",
    "            if events.type == QUIT or events.type==pygame.MOUSEBUTTONDOWN:\n",
    "                sys.exit(0)\n",
    "main()"
   ]
  },
  {
   "cell_type": "code",
   "execution_count": null,
   "id": "7a08cf5c",
   "metadata": {},
   "outputs": [],
   "source": []
  }
 ],
 "metadata": {
  "kernelspec": {
   "display_name": "Python 3 (ipykernel)",
   "language": "python",
   "name": "python3"
  },
  "language_info": {
   "codemirror_mode": {
    "name": "ipython",
    "version": 3
   },
   "file_extension": ".py",
   "mimetype": "text/x-python",
   "name": "python",
   "nbconvert_exporter": "python",
   "pygments_lexer": "ipython3",
   "version": "3.10.4"
  }
 },
 "nbformat": 4,
 "nbformat_minor": 5
}
